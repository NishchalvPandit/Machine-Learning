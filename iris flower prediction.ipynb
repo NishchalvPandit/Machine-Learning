{
 "cells": [
  {
   "cell_type": "code",
   "execution_count": 1,
   "id": "040d2727-b0c0-4e3c-afac-2d0d99b5b05c",
   "metadata": {},
   "outputs": [],
   "source": [
    "import pandas as pd\n",
    "import numpy as np"
   ]
  },
  {
   "cell_type": "code",
   "execution_count": 2,
   "id": "6d0e2813-7392-4a4c-9c13-a9851b78f168",
   "metadata": {},
   "outputs": [],
   "source": [
    "df=pd.read_csv('/Users/nishchalpandit/Downloads/iris.csv')"
   ]
  },
  {
   "cell_type": "code",
   "execution_count": 3,
   "id": "7e9c0977-4b3e-4741-a76d-08e9f6e362f8",
   "metadata": {},
   "outputs": [
    {
     "data": {
      "text/html": [
       "<div>\n",
       "<style scoped>\n",
       "    .dataframe tbody tr th:only-of-type {\n",
       "        vertical-align: middle;\n",
       "    }\n",
       "\n",
       "    .dataframe tbody tr th {\n",
       "        vertical-align: top;\n",
       "    }\n",
       "\n",
       "    .dataframe thead th {\n",
       "        text-align: right;\n",
       "    }\n",
       "</style>\n",
       "<table border=\"1\" class=\"dataframe\">\n",
       "  <thead>\n",
       "    <tr style=\"text-align: right;\">\n",
       "      <th></th>\n",
       "      <th>sepal_length</th>\n",
       "      <th>sepal_width</th>\n",
       "      <th>petal_length</th>\n",
       "      <th>petal_width</th>\n",
       "      <th>species</th>\n",
       "    </tr>\n",
       "  </thead>\n",
       "  <tbody>\n",
       "    <tr>\n",
       "      <th>0</th>\n",
       "      <td>5.1</td>\n",
       "      <td>3.5</td>\n",
       "      <td>1.4</td>\n",
       "      <td>0.2</td>\n",
       "      <td>Iris-setosa</td>\n",
       "    </tr>\n",
       "    <tr>\n",
       "      <th>1</th>\n",
       "      <td>4.9</td>\n",
       "      <td>3.0</td>\n",
       "      <td>1.4</td>\n",
       "      <td>0.2</td>\n",
       "      <td>Iris-setosa</td>\n",
       "    </tr>\n",
       "    <tr>\n",
       "      <th>2</th>\n",
       "      <td>4.7</td>\n",
       "      <td>3.2</td>\n",
       "      <td>1.3</td>\n",
       "      <td>0.2</td>\n",
       "      <td>Iris-setosa</td>\n",
       "    </tr>\n",
       "    <tr>\n",
       "      <th>3</th>\n",
       "      <td>4.6</td>\n",
       "      <td>3.1</td>\n",
       "      <td>1.5</td>\n",
       "      <td>0.2</td>\n",
       "      <td>Iris-setosa</td>\n",
       "    </tr>\n",
       "    <tr>\n",
       "      <th>4</th>\n",
       "      <td>5.0</td>\n",
       "      <td>3.6</td>\n",
       "      <td>1.4</td>\n",
       "      <td>0.2</td>\n",
       "      <td>Iris-setosa</td>\n",
       "    </tr>\n",
       "  </tbody>\n",
       "</table>\n",
       "</div>"
      ],
      "text/plain": [
       "   sepal_length  sepal_width  petal_length  petal_width      species\n",
       "0           5.1          3.5           1.4          0.2  Iris-setosa\n",
       "1           4.9          3.0           1.4          0.2  Iris-setosa\n",
       "2           4.7          3.2           1.3          0.2  Iris-setosa\n",
       "3           4.6          3.1           1.5          0.2  Iris-setosa\n",
       "4           5.0          3.6           1.4          0.2  Iris-setosa"
      ]
     },
     "execution_count": 3,
     "metadata": {},
     "output_type": "execute_result"
    }
   ],
   "source": [
    "df.head()"
   ]
  },
  {
   "cell_type": "code",
   "execution_count": 4,
   "id": "d4abc1a2-c54a-4040-86c7-e2a25b34e519",
   "metadata": {},
   "outputs": [
    {
     "data": {
      "text/plain": [
       "(150, 5)"
      ]
     },
     "execution_count": 4,
     "metadata": {},
     "output_type": "execute_result"
    }
   ],
   "source": [
    "df.shape"
   ]
  },
  {
   "cell_type": "code",
   "execution_count": 5,
   "id": "b317ac30-d90c-480a-b2d7-b97e219920e7",
   "metadata": {},
   "outputs": [
    {
     "name": "stdout",
     "output_type": "stream",
     "text": [
      "     sepal_length  sepal_width  petal_length  petal_width\n",
      "126           6.2          2.8           4.8          1.8\n",
      "23            5.1          3.3           1.7          0.5\n",
      "64            5.6          2.9           3.6          1.3\n",
      "117           7.7          3.8           6.7          2.2\n",
      "84            5.4          3.0           4.5          1.5\n"
     ]
    },
    {
     "data": {
      "text/plain": [
       "(120, 4)"
      ]
     },
     "execution_count": 5,
     "metadata": {},
     "output_type": "execute_result"
    }
   ],
   "source": [
    "from sklearn.model_selection import train_test_split\n",
    "X_train, X_test, y_train, y_test = train_test_split(df.iloc[:,:4], df.iloc[:,-1],test_size=0.2, random_state=2)\n",
    "\n",
    "print(X_train.head())\n",
    "X_train.shape\n"
   ]
  },
  {
   "cell_type": "code",
   "execution_count": 6,
   "id": "cfd6c637-3db0-4247-82ab-c6e660d0a903",
   "metadata": {},
   "outputs": [
    {
     "name": "stdout",
     "output_type": "stream",
     "text": [
      "     sepal_length  sepal_width  petal_length  petal_width\n",
      "6             4.6          3.4           1.4          0.3\n",
      "3             4.6          3.1           1.5          0.2\n",
      "113           5.7          2.5           5.0          2.0\n",
      "12            4.8          3.0           1.4          0.1\n",
      "24            4.8          3.4           1.9          0.2\n"
     ]
    },
    {
     "data": {
      "text/plain": [
       "(30, 4)"
      ]
     },
     "execution_count": 6,
     "metadata": {},
     "output_type": "execute_result"
    }
   ],
   "source": [
    "print(X_test.head())\n",
    "X_test.shape"
   ]
  },
  {
   "cell_type": "code",
   "execution_count": 7,
   "id": "212990fe-a28c-4118-919f-3a6c51894b80",
   "metadata": {},
   "outputs": [],
   "source": [
    "from sklearn.preprocessing import StandardScaler"
   ]
  },
  {
   "cell_type": "code",
   "execution_count": 8,
   "id": "edea3d2d-56a8-4d47-b17d-f8d59b01ae8b",
   "metadata": {},
   "outputs": [
    {
     "name": "stdout",
     "output_type": "stream",
     "text": [
      "[[ 0.37346331 -0.57939897  0.54063457  0.74225155]\n",
      " [-0.9845851   0.55297687 -1.24706373 -0.99115027]\n",
      " [-0.36729037 -0.3529238  -0.15137768  0.07555854]\n",
      " [ 2.22534751  1.68535271  1.63632062  1.27560595]\n",
      " [-0.61420826 -0.12644864  0.36763151  0.34223574]\n",
      " [-0.12037247  2.13830304 -1.53540217 -1.39116607]\n",
      " [ 0.6203812  -0.57939897  1.00197606  1.27560595]\n",
      " [ 0.25000437 -0.12644864  0.42529919  0.20889714]\n",
      " [-0.49074931 -1.71177481  0.07929307  0.07555854]\n",
      " [ 1.23767594  0.10002653  0.71363763  1.40894455]\n",
      " [ 0.12654542 -0.3529238   0.36763151  0.34223574]\n",
      " [ 0.37346331 -0.3529238   0.25229613  0.07555854]\n",
      " [ 1.11421699  0.3265017   1.17497913  1.40894455]\n",
      " [-1.10804404 -1.71177481 -0.32438074 -0.32445726]\n",
      " [-1.35496194  0.77945204 -1.30473142 -1.39116607]\n",
      " [ 0.25000437 -1.03234931  1.00197606  0.20889714]\n",
      " [-0.86112615  0.77945204 -1.4200668  -1.39116607]\n",
      " [ 0.99075804  0.10002653  0.30996382  0.20889714]\n",
      " [-0.9845851   1.0059272  -1.4200668  -1.39116607]\n",
      " [-0.86112615  1.0059272  -1.36239911 -1.39116607]\n",
      " [-0.49074931  1.0059272  -1.47773448 -1.39116607]\n",
      " [-1.23150299 -1.25882447  0.36763151  0.60891295]\n",
      " [ 0.37346331  0.77945204  0.88664069  1.40894455]\n",
      " [ 2.4722654   1.68535271  1.46331756  1.00892875]\n",
      " [-0.61420826  0.77945204 -1.24706373 -1.39116607]\n",
      " [ 0.99075804  0.10002653  1.00197606  1.54228315]\n",
      " [ 0.49692226  0.77945204  1.00197606  1.54228315]\n",
      " [ 2.10188856 -0.12644864  1.57865294  1.14226735]\n",
      " [ 0.12654542 -1.93824998  0.65596994  0.34223574]\n",
      " [-1.97225667 -0.12644864 -1.59306986 -1.52450467]\n",
      " [-1.35496194  0.10002653 -1.30473142 -1.39116607]\n",
      " [-0.12037247 -0.80587414  0.71363763  0.87559015]\n",
      " [-0.24383142 -0.57939897  0.13696076  0.07555854]\n",
      " [-0.86112615 -0.80587414  0.02162538  0.20889714]\n",
      " [ 2.22534751 -0.12644864  1.2903145   1.40894455]\n",
      " [ 0.49692226 -0.80587414  0.59830225  0.74225155]\n",
      " [ 0.25000437 -0.57939897  0.07929307  0.07555854]\n",
      " [-0.9845851   1.45887754 -1.36239911 -1.12448887]\n",
      " [-0.24383142 -0.57939897  0.36763151  0.07555854]\n",
      " [-0.61420826  1.91182787 -1.47773448 -1.12448887]\n",
      " [-0.12037247 -0.57939897  0.71363763  1.54228315]\n",
      " [-0.12037247 -1.03234931  0.07929307 -0.05778006]\n",
      " [-0.9845851  -1.25882447 -0.4973838  -0.19111866]\n",
      " [-0.24383142  1.68535271 -1.24706373 -1.25782747]\n",
      " [-0.49074931 -1.48529964 -0.09370999 -0.32445726]\n",
      " [ 0.00308647 -0.12644864  0.19462844  0.34223574]\n",
      " [ 0.99075804  0.10002653  0.48296688  0.34223574]\n",
      " [ 2.22534751 -0.57939897  1.63632062  1.00892875]\n",
      " [-1.23150299 -0.12644864 -1.4200668  -1.39116607]\n",
      " [ 0.49692226  0.55297687  0.48296688  0.47557434]\n",
      " [-0.9845851   1.68535271 -1.36239911 -1.25782747]\n",
      " [-0.12037247 -0.80587414  0.02162538 -0.05778006]\n",
      " [ 1.23767594  0.3265017   1.05964375  1.40894455]\n",
      " [-1.23150299  0.10002653 -1.36239911 -1.52450467]\n",
      " [-1.10804404 -2.39120031 -0.20904537 -0.32445726]\n",
      " [-1.23150299  0.10002653 -1.36239911 -1.52450467]\n",
      " [-1.10804404  1.0059272  -1.47773448 -1.25782747]\n",
      " [-0.61420826  1.45887754 -1.36239911 -1.39116607]\n",
      " [ 1.11421699 -0.12644864  0.94430838  1.14226735]\n",
      " [ 0.49692226  0.55297687  1.23264681  1.67562175]\n",
      " [-1.10804404  0.77945204 -1.30473142 -1.12448887]\n",
      " [-0.86112615  2.36477821 -1.36239911 -1.52450467]\n",
      " [ 0.49692226 -1.25882447  0.65596994  0.87559015]\n",
      " [ 2.22534751 -1.03234931  1.751656    1.40894455]\n",
      " [ 0.12654542 -1.93824998  0.07929307 -0.32445726]\n",
      " [ 1.60805278  1.23240237  1.2903145   1.67562175]\n",
      " [-1.23150299 -1.48529964 -0.32438074 -0.32445726]\n",
      " [ 0.25000437 -0.57939897  0.48296688 -0.05778006]\n",
      " [ 0.74384015 -0.12644864  0.77130532  1.00892875]\n",
      " [-0.9845851   1.0059272  -1.4200668  -1.25782747]\n",
      " [ 1.85497067 -0.57939897  1.2903145   0.87559015]\n",
      " [ 0.00308647 -0.12644864  0.71363763  0.74225155]\n",
      " [ 0.6203812  -0.80587414  0.828973    0.87559015]\n",
      " [-1.84879772 -0.3529238  -1.4200668  -1.39116607]\n",
      " [-0.36729037 -0.57939897  0.59830225  1.00892875]\n",
      " [-0.9845851   0.77945204 -1.36239911 -1.39116607]\n",
      " [-1.10804404  0.55297687 -1.4200668  -1.39116607]\n",
      " [-0.24383142 -1.03234931 -0.20904537 -0.32445726]\n",
      " [ 1.23767594  0.10002653  0.88664069  1.14226735]\n",
      " [-0.49074931 -1.03234931  0.30996382 -0.05778006]\n",
      " [ 0.49692226 -0.57939897  0.71363763  0.34223574]\n",
      " [ 1.36113488  0.3265017   0.48296688  0.20889714]\n",
      " [ 1.11421699 -0.57939897  0.54063457  0.20889714]\n",
      " [ 0.74384015  0.3265017   0.71363763  1.00892875]\n",
      " [ 1.23767594  0.10002653  0.59830225  0.34223574]\n",
      " [-0.49074931 -1.48529964 -0.0360423  -0.19111866]\n",
      " [-0.36729037 -0.12644864  0.36763151  0.34223574]\n",
      " [ 0.12654542 -0.12644864  0.54063457  0.74225155]\n",
      " [ 0.12654542 -0.80587414  0.71363763  0.47557434]\n",
      " [-0.12037247 -0.80587414  0.71363763  0.87559015]\n",
      " [ 0.00308647  0.3265017   0.54063457  0.74225155]\n",
      " [-0.9845851   1.68535271 -1.30473142 -1.39116607]\n",
      " [ 0.37346331 -1.93824998  0.36763151  0.34223574]\n",
      " [-0.36729037 -0.12644864  0.13696076  0.07555854]\n",
      " [-0.36729037 -1.25882447  0.02162538 -0.19111866]\n",
      " [-0.12037247 -0.80587414  0.13696076 -0.32445726]\n",
      " [ 0.6203812   0.10002653  0.94430838  0.74225155]\n",
      " [ 0.8672991  -0.3529238   0.42529919  0.07555854]\n",
      " [-0.49074931  2.59125338 -1.4200668  -1.39116607]\n",
      " [-1.84879772 -0.12644864 -1.47773448 -1.39116607]\n",
      " [ 0.49692226 -0.3529238   1.00197606  0.74225155]\n",
      " [ 0.6203812   0.3265017   0.36763151  0.34223574]\n",
      " [ 1.73151172 -0.3529238   1.40564987  0.74225155]\n",
      " [-1.10804404  1.23240237 -1.4200668  -1.39116607]\n",
      " [ 1.48459383 -0.12644864  1.17497913  1.14226735]\n",
      " [-1.23150299  0.10002653 -1.36239911 -1.52450467]\n",
      " [ 0.74384015 -0.12644864  0.94430838  0.74225155]\n",
      " [ 0.99075804  0.55297687  1.05964375  1.14226735]\n",
      " [-0.61420826  0.77945204 -1.36239911 -1.12448887]\n",
      " [ 0.25000437 -0.3529238   0.48296688  0.20889714]\n",
      " [-1.60187983  0.3265017  -1.4200668  -1.39116607]\n",
      " [ 0.99075804 -0.12644864  0.77130532  1.40894455]\n",
      " [-0.24383142 -0.12644864  0.19462844 -0.05778006]\n",
      " [-1.10804404  0.77945204 -1.36239911 -1.39116607]\n",
      " [ 0.74384015 -0.12644864  1.11731144  1.27560595]\n",
      " [ 0.8672991  -0.12644864  0.30996382  0.20889714]\n",
      " [-1.10804404  1.0059272  -1.30473142 -0.85781167]\n",
      " [-1.60187983  1.23240237 -1.65073754 -1.39116607]\n",
      " [ 0.49692226 -1.25882447  0.59830225  0.34223574]\n",
      " [-0.24383142  3.04420371 -1.36239911 -1.12448887]]\n"
     ]
    }
   ],
   "source": [
    "scaler = StandardScaler()\n",
    "X_train = scaler.fit_transform(X_train)\n",
    "X_test = scaler.transform(X_test)\n",
    "print(X_train)\n",
    "\n"
   ]
  },
  {
   "cell_type": "code",
   "execution_count": 9,
   "id": "b24e8e19-d9f5-4c04-be54-3fc4476b0f42",
   "metadata": {},
   "outputs": [
    {
     "data": {
      "text/plain": [
       "(120, 4)"
      ]
     },
     "execution_count": 9,
     "metadata": {},
     "output_type": "execute_result"
    }
   ],
   "source": [
    "from sklearn.neighbors import KNeighborsClassifier\n",
    "knn=KNeighborsClassifier(n_neighbors=3)\n",
    "knn.fit(X_train,y_train)\n",
    "X_train.shape"
   ]
  },
  {
   "cell_type": "code",
   "execution_count": 10,
   "id": "f45f3179-fcdb-42f0-9551-f9be566fabf9",
   "metadata": {},
   "outputs": [
    {
     "name": "stdout",
     "output_type": "stream",
     "text": [
      "['Iris-setosa' 'Iris-setosa' 'Iris-virginica' 'Iris-setosa' 'Iris-setosa'\n",
      " 'Iris-virginica' 'Iris-setosa' 'Iris-virginica' 'Iris-virginica'\n",
      " 'Iris-setosa' 'Iris-setosa' 'Iris-setosa' 'Iris-setosa' 'Iris-setosa'\n",
      " 'Iris-versicolor' 'Iris-versicolor' 'Iris-setosa' 'Iris-versicolor'\n",
      " 'Iris-virginica' 'Iris-versicolor' 'Iris-versicolor' 'Iris-versicolor'\n",
      " 'Iris-virginica' 'Iris-versicolor' 'Iris-versicolor' 'Iris-setosa'\n",
      " 'Iris-setosa' 'Iris-virginica' 'Iris-setosa' 'Iris-virginica']\n"
     ]
    }
   ],
   "source": [
    "y_pred=knn.predict(X_test)\n",
    "print(y_pred)"
   ]
  },
  {
   "cell_type": "code",
   "execution_count": 11,
   "id": "5b739663-6ef9-4cc2-9b10-d0d652624097",
   "metadata": {},
   "outputs": [
    {
     "data": {
      "text/plain": [
       "1.0"
      ]
     },
     "execution_count": 11,
     "metadata": {},
     "output_type": "execute_result"
    }
   ],
   "source": [
    "from sklearn.metrics import accuracy_score\n",
    "y_pred = knn.predict(X_test)\n",
    "\n",
    "accuracy_score(y_test, y_pred)\n"
   ]
  },
  {
   "cell_type": "code",
   "execution_count": 12,
   "id": "e2b03e19-da0d-4453-9d33-c896343a520a",
   "metadata": {},
   "outputs": [
    {
     "name": "stdout",
     "output_type": "stream",
     "text": [
      "[1.0, 1.0, 1.0, 1.0, 0.9666666666666667, 1.0, 1.0, 1.0, 1.0, 1.0, 1.0, 1.0, 0.9666666666666667, 1.0, 0.9666666666666667, 1.0, 0.9666666666666667, 0.9666666666666667, 0.9666666666666667]\n"
     ]
    }
   ],
   "source": [
    "scores = []\n",
    "\n",
    "for i in range(1,20):\n",
    "    \n",
    "    knn = KNeighborsClassifier(n_neighbors=i)\n",
    "    \n",
    "    knn.fit(X_train,y_train)\n",
    "    \n",
    "    y_pred = knn.predict(X_test)\n",
    "    scores.append(accuracy_score(y_test, y_pred))\n",
    "print(scores)"
   ]
  },
  {
   "cell_type": "code",
   "execution_count": 13,
   "id": "b16afeb5-4f56-4502-848f-7f53cd8f2c40",
   "metadata": {},
   "outputs": [
    {
     "name": "stdout",
     "output_type": "stream",
     "text": [
      "     0    1    2  3\n",
      "0  4.9  2.4  3.3  1\n"
     ]
    }
   ],
   "source": [
    "import pandas as pd\n",
    "data = [[4.9,2.4\t,3.3\t,1]]\n",
    "df = pd.DataFrame(data)\n",
    "print(df)"
   ]
  },
  {
   "cell_type": "code",
   "execution_count": 14,
   "id": "57876998-04d5-43f3-87c0-846e06bd39aa",
   "metadata": {},
   "outputs": [
    {
     "data": {
      "text/plain": [
       "array(['Iris-virginica'], dtype=object)"
      ]
     },
     "execution_count": 14,
     "metadata": {},
     "output_type": "execute_result"
    }
   ],
   "source": [
    " y_pred = knn.predict(df)\n",
    "y_pred"
   ]
  },
  {
   "cell_type": "code",
   "execution_count": 15,
   "id": "4bd2da52-3557-46a8-b9ae-3c0d2b996011",
   "metadata": {},
   "outputs": [],
   "source": [
    "import matplotlib.pyplot as plt"
   ]
  },
  {
   "cell_type": "code",
   "execution_count": 16,
   "id": "fbd7b90c-5616-4766-b196-ec38d48c93f5",
   "metadata": {},
   "outputs": [
    {
     "data": {
      "text/plain": [
       "[<matplotlib.lines.Line2D at 0x11e6bacf0>]"
      ]
     },
     "execution_count": 16,
     "metadata": {},
     "output_type": "execute_result"
    },
    {
     "data": {
      "image/png": "[encoded data removed]",
      "text/plain": [
       "<Figure size 640x480 with 1 Axes>"
      ]
     },
     "metadata": {},
     "output_type": "display_data"
    }
   ],
   "source": [
    "plt.plot(range(1,20),scores)"
   ]
  },
  {
   "cell_type": "code",
   "execution_count": null,
   "id": "1aae9f3f-ff02-4b67-ad4a-f9200387ae86",
   "metadata": {},
   "outputs": [],
   "source": []
  },
  {
   "cell_type": "code",
   "execution_count": null,
   "id": "49d02bd8-246c-480a-b51e-e431d48fb4f1",
   "metadata": {},
   "outputs": [],
   "source": []
  },
  {
   "cell_type": "code",
   "execution_count": null,
   "id": "d9f07603-0251-4fd7-9405-12489543cabc",
   "metadata": {},
   "outputs": [],
   "source": []
  },
  {
   "cell_type": "code",
   "execution_count": null,
   "id": "f5bb8090-55b3-4aa3-b307-e9aeee426048",
   "metadata": {},
   "outputs": [],
   "source": []
  }
 ],
 "metadata": {
  "kernelspec": {
   "display_name": "Python 3 (ipykernel)",
   "language": "python",
   "name": "python3"
  },
  "language_info": {
   "codemirror_mode": {
    "name": "ipython",
    "version": 3
   },
   "file_extension": ".py",
   "mimetype": "text/x-python",
   "name": "python",
   "nbconvert_exporter": "python",
   "pygments_lexer": "ipython3",
   "version": "3.12.5"
  }
 },
 "nbformat": 4,
 "nbformat_minor": 5
}
